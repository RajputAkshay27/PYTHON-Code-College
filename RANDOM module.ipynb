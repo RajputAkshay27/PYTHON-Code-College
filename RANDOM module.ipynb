{
 "cells": [
  {
   "cell_type": "code",
   "execution_count": 8,
   "metadata": {},
   "outputs": [],
   "source": [
    "import random \n",
    "import string\n",
    "\n",
    "def random_user_id():\n",
    "    str = string.ascii_letters + string.digits\n",
    "    ans = ''\n",
    "    for i in range(6):\n",
    "        ans = ans + random.choice(str)\n",
    "        \n",
    "    print(ans)"
   ]
  },
  {
   "cell_type": "code",
   "execution_count": 15,
   "metadata": {},
   "outputs": [
    {
     "name": "stdout",
     "output_type": "stream",
     "text": [
      "oaTbNx\n"
     ]
    }
   ],
   "source": [
    "random_user_id()"
   ]
  },
  {
   "cell_type": "code",
   "execution_count": 16,
   "metadata": {},
   "outputs": [],
   "source": [
    "import random \n",
    "import string\n",
    "\n",
    "def random_user_id_by_user():\n",
    "    a,b = map(int,input().split())\n",
    "    str = string.ascii_letters + string.digits\n",
    "    for j in range(b):\n",
    "        ans = ''\n",
    "        for i in range(a):\n",
    "            ans = ans + random.choice(str)\n",
    "        print(ans)"
   ]
  },
  {
   "cell_type": "code",
   "execution_count": 17,
   "metadata": {},
   "outputs": [
    {
     "name": "stdout",
     "output_type": "stream",
     "text": [
      "WcnokYJhiOYoZJMJ\n",
      "P2BmL1Tqyk7Oc3SM\n",
      "JXGBLYp4h5UVmwQW\n",
      "tIpKXh434KDWI9x7\n",
      "orktmv8FkuZB3y4J\n"
     ]
    }
   ],
   "source": [
    "random_user_id_by_user()"
   ]
  },
  {
   "cell_type": "code",
   "execution_count": 21,
   "metadata": {},
   "outputs": [],
   "source": [
    "from random import randint\n",
    "\n",
    "def rgb_color_gen():\n",
    "    print(f\"rgb({randint(0,255)},{randint(0,255)},{randint(0,255)})\")"
   ]
  },
  {
   "cell_type": "code",
   "execution_count": 25,
   "metadata": {},
   "outputs": [
    {
     "name": "stdout",
     "output_type": "stream",
     "text": [
      "rgb(143,145,153)\n"
     ]
    }
   ],
   "source": [
    "rgb_color_gen()"
   ]
  },
  {
   "cell_type": "code",
   "execution_count": 43,
   "metadata": {},
   "outputs": [],
   "source": [
    "import random\n",
    "import string\n",
    "\n",
    "def list_of_hexa_colours(b):\n",
    "    ls = []\n",
    "    str = string.digits + 'abcdef'\n",
    "    for j in range(b):\n",
    "        ans = '#'\n",
    "        for i in range(6):\n",
    "            ans = ans + random.choice(str)\n",
    "        ls.append(ans)\n",
    "    \n",
    "    print(ls)"
   ]
  },
  {
   "cell_type": "code",
   "execution_count": 44,
   "metadata": {},
   "outputs": [
    {
     "name": "stdout",
     "output_type": "stream",
     "text": [
      "['#870fb0', '#ce74bb', '#abd800', '#4591f7', '#ab6ca8', '#7dc274']\n"
     ]
    }
   ],
   "source": [
    "list_of_hexa_colours(6)"
   ]
  },
  {
   "cell_type": "code",
   "execution_count": 41,
   "metadata": {},
   "outputs": [],
   "source": [
    "import random\n",
    "import string\n",
    "\n",
    "def list_of_rgb_colours(s):\n",
    "    ls = []\n",
    "    for j in range(s):\n",
    "        ans = 'rgb('\n",
    "        for i in range(3):\n",
    "            ans = ans + str(randint(0,255))\n",
    "            if i != 2:\n",
    "                ans = ans + ','\n",
    "        ans = ans + ')'\n",
    "        ls.append(ans)\n",
    "    \n",
    "    print(ls)"
   ]
  },
  {
   "cell_type": "code",
   "execution_count": 42,
   "metadata": {},
   "outputs": [
    {
     "name": "stdout",
     "output_type": "stream",
     "text": [
      "['rgb(5,130,179)', 'rgb(10,232,80)', 'rgb(45,116,99)', 'rgb(127,1,3)', 'rgb(200,79,91)', 'rgb(78,82,220)']\n"
     ]
    }
   ],
   "source": [
    "list_of_rgb_colours(6)"
   ]
  },
  {
   "cell_type": "code",
   "execution_count": 45,
   "metadata": {},
   "outputs": [],
   "source": [
    "def generate_colour(a,b):\n",
    "    if a == 'rgb':\n",
    "        list_of_rgb_colours(b)\n",
    "    else:\n",
    "        list_of_hexa_colours(b)"
   ]
  },
  {
   "cell_type": "code",
   "execution_count": 47,
   "metadata": {},
   "outputs": [
    {
     "name": "stdout",
     "output_type": "stream",
     "text": [
      "['#d8b536', '#6ae4b5', '#0fc0a9', '#ccb08f']\n"
     ]
    }
   ],
   "source": [
    "generate_colour('hexa',4)"
   ]
  }
 ],
 "metadata": {
  "interpreter": {
   "hash": "cece0b1bb11d2c947d87747da2a5c671ba04febe8f2f647fb73c1a800cb0ea33"
  },
  "kernelspec": {
   "display_name": "Python 3.10.1 64-bit",
   "language": "python",
   "name": "python3"
  },
  "language_info": {
   "codemirror_mode": {
    "name": "ipython",
    "version": 3
   },
   "file_extension": ".py",
   "mimetype": "text/x-python",
   "name": "python",
   "nbconvert_exporter": "python",
   "pygments_lexer": "ipython3",
   "version": "3.10.1"
  },
  "orig_nbformat": 4
 },
 "nbformat": 4,
 "nbformat_minor": 2
}
